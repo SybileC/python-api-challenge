{
 "cells": [
  {
   "cell_type": "markdown",
   "metadata": {},
   "source": [
    "# WeatherPy\n",
    "----\n",
    "\n",
    "#### Note\n",
    "* Instructions have been included for each segment. You do not have to follow them exactly, but they are included to help you think through the steps."
   ]
  },
  {
   "cell_type": "code",
   "execution_count": 19,
   "metadata": {
    "scrolled": true
   },
   "outputs": [
    {
     "name": "stdout",
     "output_type": "stream",
     "text": [
      "Requirement already satisfied: citipy in c:\\users\\babyta\\anaconda3\\envs\\pythondata\\lib\\site-packages (0.0.5)\n",
      "Requirement already satisfied: kdtree>=0.12 in c:\\users\\babyta\\anaconda3\\envs\\pythondata\\lib\\site-packages (from citipy) (0.16)\n"
     ]
    }
   ],
   "source": [
    "!pip install citipy"
   ]
  },
  {
   "cell_type": "code",
   "execution_count": 20,
   "metadata": {},
   "outputs": [],
   "source": [
    "# Dependencies and Setup\n",
    "import matplotlib.pyplot as plt\n",
    "import pandas as pd\n",
    "import numpy as np\n",
    "import requests\n",
    "import time\n",
    "from scipy.stats import linregress\n",
    "from api_keys import api_key\n",
    "import json\n",
    "from pprint import pprint\n",
    "from scipy import stats\n",
    "import random\n",
    "from citipy import citipy\n",
    "import os as csv\n",
    "import matplotlib.pyplot as plt\n",
    "\n",
    "\n",
    "# Output File (CSV)\n",
    "csvfile = \"output/city_weather.csv\"\n",
    "\n",
    "#Base url and units\n",
    "url = \"http://api.openweathermap.org/data/2.5/weather?\"\n",
    "units = \"Imperial\"\n",
    "\n",
    "# Build partial query URL\n",
    "query_url = f\"{url}appid={api_key}&units={units}&q=\"\n"
   ]
  },
  {
   "cell_type": "code",
   "execution_count": 21,
   "metadata": {},
   "outputs": [
    {
     "name": "stdout",
     "output_type": "stream",
     "text": [
      "['cape town', 'kapaa', 'castro', 'ponta do sol', 'lolua', 'leningradskiy', 'punta arenas', 'fort nelson', 'tumannyy', 'butaritari', 'hermanus', 'provideniya', 'kazalinsk', 'tubruq', 'belushya guba', 'atuona', 'iqaluit', 'mount gambier', 'mataura', 'causapscal', 'lagoa', 'puerto gaitan', 'mulege', 'roald', 'barrow', 'buala', 'klaksvik', 'kulachi', 'kuminskiy', 'namibe', 'taguatinga', 'udala', 'henties bay', 'beroroha', 'xiaoweizhai', 'grand river south east', 'alghero', 'saint george', 'rikitea', 'pisco', 'miyang', 'samusu', 'brae', 'attawapiskat', 'norman wells', 'ushuaia', 'ust-omchug', 'san patricio', 'illoqqortoormiut', 'torbay', 'ulaangom', 'ostrovnoy', 'itaituba', 'mar del plata', 'concarneau', 'kruisfontein', 'puerto ayora', 'busselton', 'kavaratti', 'matara', 'bani', 'srivardhan', 'port alfred', 'taolanaro', 'joppatowne', 'arraial do cabo', 'lensk', 'meulaboh', 'daru', 'gigmoto', 'albany', 'carnarvon', 'luderitz', 'prabumulih', 'port elizabeth', 'hilo', 'bull savanna', 'bambous virieux', 'opuwo', 'nome', 'rorvik', 'abu samrah', 'ahuimanu', 'kautokeino', 'bluff', 'abha', 'jamestown', 'yar-sale', 'vao', 'gotsu', 'verkhniy baskunchak', 'poshekhonye', 'east london', 'eldikan', 'saleaula', 'geraldton', 'bagdarin', 'batagay', 'yellowknife', 'saint-pierre', 'katsuura', 'meyungs', 'bredasdorp', 'camana', 'saint-philippe', 'korem', 'antsohihy', 'vaini', 'acarau', 'new norfolk', 'georgetown', 'porto walter', 'lampa', 'tuktoyaktuk', 'rongcheng', 'tiksi', 'bichura', 'jalu', 'sibolga', 'vila velha', 'ribeira grande', 'airai', 'faanui', 'avarua', 'nalut', 'caravelas', 'kodiak', 'shangrao', 'ossora', 'belyy yar', 'kyren', 'isangel', 'mahebourg', 'hobart', 'los llanos de aridane', 'hirara', 'hasaki', 'mys shmidta', 'kentau', 'saskylakh', 'zherdevka', 'aklavik', 'manono', 'cherskiy', 'guadix', 'cidreira', 'richards bay', 'sentyabrskiy', 'suntar', 'krasavino', 'clyde river', 'nikolskoye', 'doha', 'pervoye maya', 'upernavik', 'camacha', 'bur gabo', 'umm lajj', 'barcelona', 'kumbo', 'little current', 'conceicao do araguaia', 'nguiu', 'iquique', 'shilong', 'padang', 'dingle', 'tuatapere', 'birobidzhan', 'naftah', 'amderma', 'saint-pascal', 'colares', 'lao cai', 'urdzhar', 'fereydun kenar', 'byron bay', 'thompson', 'salalah', 'baturaja', 'mercedes', 'leon valley', 'tasiilaq', 'bengkulu', 'hualmay', 'karauzyak', 'zhigansk', 'kangaba', 'victoria', 'kahului', 'vaitupu', 'lodwar', 'sola', 'turbat', 'callaway', 'severo-kurilsk', 'hamilton', 'alice springs', 'saldanha', 'qaanaaq', 'kavieng', 'northam', 'pyapon', 'edd', 'kiama', 'hervey bay', 'fortuna', 'karwar', 'pevek', 'kirakira', 'bethel', 'chokurdakh', 'lebu', 'erenhot', 'codrington', 'santa rosa', 'tutoia', 'three hills', 'atambua', 'boa vista', 'santiago del estero', 'chegdomyn', 'omihachiman', 'viedma', 'port-gentil', 'abiy adi', 'patitirion', 'cabo san lucas', 'sangar', 'shingu', 'port hardy', 'puerto ayacucho', 'luanshya', 'high rock', 'okhotsk', 'ixtapa', 'gulshat', 'tarakan', 'chuy', 'xuchang', 'lalmohan', 'bone', 'magdeburg', 'esperance', 'witu', 'kuche', 'fatezh', 'tsihombe', 'muzhi', 'juneau', 'kaitangata', 'westpunt', 'viseu', 'healdsburg', 'taltal', 'ayan', 'hithadhoo', 'babu', 'boende', 'zhanaozen', 'sergiyevsk', 'chapais', 'karakendzha', 'samalaeulu', 'nizhneyansk', 'avera', 'jaruco', 'husavik', 'luwuk', 'louisbourg', 'kabare', 'beloha', 'sakaiminato', 'sedelnikovo', 'quanzhou', 'sungaipenuh', 'marcona', 'khatanga', 'yerbogachen', 'perth', 'nova iguacu', 'cao bang', 'kot kapura', 'mackay', 'shimoda', 'evensk', 'hambantota', 'longyearbyen', 'te anau', 'porto novo', 'halvad', 'gat', 'gitega', 'san policarpo', 'cap malheureux', 'yanam', 'nanortalik', 'allende', 'kattivakkam', 'russell', 'grajewo', 'rastolita', 'varkaus', 'tilichiki', 'tres picos', 'bandarbeyla', 'swan hill', 'dikson', 'ozgon', 'vestmanna', 'wilmington', 'edson', 'mehamn', 'lobito', 'makakilo city', 'half moon bay', 'comodoro rivadavia', 'tadine', 'bilibino', 'mandalgovi', 'goderich', 'nantucket', 'pochutla', 'udachnyy', 'phonhong', 'jaisalmer', 'tevriz', 'ngunguru', 'bathsheba', 'guajara-mirim', 'locri', 'guerrero negro', 'flin flon', 'dali', 'gumdag', 'llata', 'banepa', 'constitucion', 'krasnoarmeysk', 'ancud', 'amos', 'maumere', 'san ramon de la nueva oran', 'jevargi', 'garowe', 'vagur', 'akdepe', 'agadez', 'qesarya', 'tautira', 'marmaris', 'dryden', 'vidim', 'djambala', 'hofn', 'yeniseysk', 'pacifica', 'sandy bay', 'kiunga', 'mangan', 'chiredzi', 'axim', 'belle fourche', 'solovetskiy', 'margate', 'tawkar', 'touros', 'hole narsipur', 'chagda', 'haines junction', 'yelabuga', 'pierre', 'xining', 'chiapilla', 'vilyuysk', 'marrakesh', 'riyadh', 'sept-iles', 'guilin', 'zhezkazgan', 'vidalia', 'camalu', 'griffith', 'corinto', 'lima', 'vestmannaeyjar', 'narsaq', 'paradwip', 'kemijarvi', 'hami', 'neryungri', 'inta', 'lakheri', 'aykhal', 'rio gallegos', 'barentsburg', 'portland', 'tateyama', 'anadyr', 'high level', 'port lincoln', 'slave lake', 'rungata', 'sheridan', 'khonuu', 'kimbe', 'abu kamal', 'dunedin', 'goure', 'kualakapuas', 'gurskoye', 'diffa', 'broome', 'seoul', 'sorong', 'champerico', 'san jose', 'rosetta', 'kalemie', 'okato', 'poum', 'yulara', 'sinnamary', 'aswan', 'laguna', 'mogok', 'talnakh', 'cheuskiny', 'udon thani', 'coquimbo', 'kuraymah', 'ipixuna', 'aguimes', 'torgau', 'turukhansk', 'palauig', 'capelinha', 'cockburn town', 'carutapera', 'baie-comeau', 'huarmey', 'wilmington island', 'road town', 'dera din panah', 'guozhen', 'chunskiy', 'souillac', 'leua', 'ashtabula', 'la gaulette', 'meridian', 'vila franca do campo', 'san carlos de bariloche', 'pimentel', 'port blair', 'pangnirtung', 'huilong', 'sisimiut', 'obninsk', 'san buenaventura', 'katobu', 'shelburne', 'camacari', 'bambanglipuro', 'pacific grove', 'yatou', 'monmouth', 'aquiraz', 'temaraia', 'madingou', 'grand gaube', 'palabuhanratu', 'olafsvik', 'miraflores', 'faya', 'bowen', 'inirida', 'fort saint john', 'caluquembe', 'prince rupert', 'port moresby', 'nijar', 'ambilobe', 'ust-ishim', 'narsipatnam', 'sarangani', 'quatre cocos', 'andenes', 'kysyl-syr', 'sao felix do xingu', 'severodvinsk', 'taoudenni', 'shugurovo', 'plateros', 'jibuti', 'bacalar', 'alofi', 'alexandria', 'samfya', 'oranzherei', 'muravlenko', 'maniitsoq', 'eureka', 'fairbanks', 'rapar', 'chilca', 'paita', 'ilulissat', 'sorvag', 'wewak', 'necochea', 'mayfield', 'aljezur', 'port macquarie', 'tobane', 'oriximina', 'komsomolskiy', 'sun valley', 'kamenskoye', 'sinjai', 'hidalgo', 'pasca', 'soto la marina', 'mazara del vallo', 'saint-georges', 'urengoy', 'san ramon', 'talaya', 'regeneracao', 'mayskiy', 'alice', 'andros town', 'batemans bay', 'kiruna', 'port said', 'boras', 'sioux lookout', 'rocha', 'uvinza', 'nsanje', 'sao filipe', 'price', 'roma', 'pyay', 'nizhniy kuranakh', 'nemuro', 'vardo', 'kaeo', 'arroio grande', 'inuvik', 'rio grande', 'villanueva', 'rawlins', 'pirapora', 'novovyazniki', 'jiancheng', 'pontes e lacerda', 'muisne', 'izumo', 'teguldet', 'maarianhamina', 'grand centre', 'hobyo', 'khani', 'sitka', 'kaura namoda', 'woodburn', 'pingliang', 'kupang', 'borodino', 'general roca', 'kobryn', 'auki', 'valparaiso', 'otukpo', 'lompoc', 'vicuna', 'dubbo', 'lakes entrance', 'luba', 'honolulu', 'taketa', 'rio rita', 'plouzane', 'mattawa', 'havelock', 'san rafael', 'beringovskiy', 'lixourion', 'belaya gora', 'salinas', 'yendi', 'vilhena', 'baykit', 'stokmarknes', 'vila', 'porto santo', 'charters towers', 'odda', 'burnie', 'muros', 'trairi']\n",
      "-29.170999880235854\n",
      "24.84062303518658\n"
     ]
    }
   ],
   "source": [
    "# use random.seed to generate the same cities whenever we run cell\n",
    "random.seed(30)\n",
    "\n",
    "# Loop through range of 1500 \n",
    "cities = []\n",
    "for city in range(0, 1500):\n",
    "#     Use random.uniform() to generate float instead of interger between longitude and latitude values\n",
    "    longitude = random.uniform(-180, 180)\n",
    "    latitude = random.uniform(-90, 90)\n",
    "    city = citipy.nearest_city(latitude, longitude).city_name\n",
    "    cities.append(city)\n",
    "\n",
    "# Turn cities to dictionary to take out any repeating city, then turn to list again\n",
    "cities = list(dict.fromkeys(cities))\n",
    "print(cities)\n",
    "print(longitude)\n",
    "print(latitude)"
   ]
  },
  {
   "cell_type": "code",
   "execution_count": 22,
   "metadata": {},
   "outputs": [
    {
     "data": {
      "text/plain": [
       "602"
      ]
     },
     "execution_count": 22,
     "metadata": {},
     "output_type": "execute_result"
    }
   ],
   "source": [
    "# Print length of cities\n",
    "len(cities)"
   ]
  },
  {
   "cell_type": "markdown",
   "metadata": {},
   "source": [
    "## Generate Cities List"
   ]
  },
  {
   "cell_type": "markdown",
   "metadata": {},
   "source": [
    "### Perform API Calls\n",
    "* Perform a weather check on each city using a series of successive API calls.\n",
    "* Include a print log of each city as it'sbeing processed (with the city number and city name).\n"
   ]
  },
  {
   "cell_type": "code",
   "execution_count": 23,
   "metadata": {},
   "outputs": [
    {
     "name": "stdout",
     "output_type": "stream",
     "text": [
      "Processing Record 1 of Set 1 | cape town\n",
      "Processing Record 2 of Set 1 | kapaa\n",
      "Processing Record 3 of Set 1 | castro\n",
      "Processing Record 4 of Set 1 | ponta do sol\n",
      "City not found. Skipping...\n",
      "Processing Record 5 of Set 1 | leningradskiy\n",
      "Processing Record 6 of Set 1 | punta arenas\n",
      "Processing Record 7 of Set 1 | fort nelson\n",
      "City not found. Skipping...\n",
      "Processing Record 8 of Set 1 | butaritari\n",
      "Processing Record 9 of Set 1 | hermanus\n",
      "Processing Record 10 of Set 1 | provideniya\n",
      "City not found. Skipping...\n",
      "City not found. Skipping...\n",
      "City not found. Skipping...\n",
      "Processing Record 11 of Set 1 | atuona\n",
      "Processing Record 12 of Set 1 | iqaluit\n",
      "Processing Record 13 of Set 1 | mount gambier\n",
      "Processing Record 14 of Set 1 | mataura\n",
      "Processing Record 15 of Set 1 | causapscal\n",
      "Processing Record 16 of Set 1 | lagoa\n",
      "Processing Record 17 of Set 1 | puerto gaitan\n",
      "Processing Record 18 of Set 1 | mulege\n",
      "Processing Record 19 of Set 1 | roald\n",
      "Processing Record 20 of Set 1 | barrow\n",
      "Processing Record 21 of Set 1 | buala\n",
      "Processing Record 22 of Set 1 | klaksvik\n",
      "Processing Record 23 of Set 1 | kulachi\n",
      "Processing Record 24 of Set 1 | kuminskiy\n",
      "Processing Record 25 of Set 1 | namibe\n",
      "Processing Record 26 of Set 1 | taguatinga\n",
      "Processing Record 27 of Set 1 | udala\n",
      "City not found. Skipping...\n",
      "Processing Record 28 of Set 1 | beroroha\n",
      "Processing Record 29 of Set 1 | xiaoweizhai\n",
      "Processing Record 30 of Set 1 | grand river south east\n",
      "Processing Record 31 of Set 1 | alghero\n",
      "City not found. Skipping...\n",
      "Processing Record 32 of Set 1 | rikitea\n",
      "Processing Record 33 of Set 1 | pisco\n",
      "Processing Record 34 of Set 1 | miyang\n",
      "City not found. Skipping...\n",
      "Processing Record 35 of Set 1 | brae\n",
      "City not found. Skipping...\n",
      "Processing Record 36 of Set 1 | norman wells\n",
      "Processing Record 37 of Set 1 | ushuaia\n",
      "Processing Record 38 of Set 1 | ust-omchug\n",
      "Processing Record 39 of Set 1 | san patricio\n",
      "City not found. Skipping...\n",
      "Processing Record 40 of Set 1 | torbay\n",
      "Processing Record 41 of Set 1 | ulaangom\n",
      "Processing Record 42 of Set 1 | ostrovnoy\n",
      "Processing Record 43 of Set 1 | itaituba\n",
      "Processing Record 44 of Set 1 | mar del plata\n",
      "Processing Record 45 of Set 1 | concarneau\n",
      "Processing Record 46 of Set 1 | kruisfontein\n",
      "Processing Record 47 of Set 1 | puerto ayora\n",
      "Processing Record 48 of Set 1 | busselton\n",
      "Processing Record 49 of Set 1 | kavaratti\n",
      "Processing Record 1 of Set 2 | matara\n",
      "Processing Record 2 of Set 2 | bani\n",
      "Processing Record 3 of Set 2 | srivardhan\n",
      "Processing Record 4 of Set 2 | port alfred\n",
      "City not found. Skipping...\n",
      "Processing Record 5 of Set 2 | joppatowne\n",
      "Processing Record 6 of Set 2 | arraial do cabo\n",
      "Processing Record 7 of Set 2 | lensk\n",
      "Processing Record 8 of Set 2 | meulaboh\n",
      "Processing Record 9 of Set 2 | daru\n",
      "Processing Record 10 of Set 2 | gigmoto\n",
      "Processing Record 11 of Set 2 | albany\n",
      "Processing Record 12 of Set 2 | carnarvon\n",
      "Processing Record 13 of Set 2 | luderitz\n",
      "Processing Record 14 of Set 2 | prabumulih\n",
      "Processing Record 15 of Set 2 | port elizabeth\n",
      "Processing Record 16 of Set 2 | hilo\n",
      "Processing Record 17 of Set 2 | bull savanna\n",
      "Processing Record 18 of Set 2 | bambous virieux\n",
      "Processing Record 19 of Set 2 | opuwo\n",
      "Processing Record 20 of Set 2 | nome\n",
      "Processing Record 21 of Set 2 | rorvik\n",
      "Processing Record 22 of Set 2 | abu samrah\n",
      "Processing Record 23 of Set 2 | ahuimanu\n",
      "Processing Record 24 of Set 2 | kautokeino\n",
      "Processing Record 25 of Set 2 | bluff\n",
      "Processing Record 26 of Set 2 | abha\n",
      "Processing Record 27 of Set 2 | jamestown\n",
      "Processing Record 28 of Set 2 | yar-sale\n",
      "Processing Record 29 of Set 2 | vao\n",
      "Processing Record 30 of Set 2 | gotsu\n",
      "Processing Record 31 of Set 2 | verkhniy baskunchak\n",
      "Processing Record 32 of Set 2 | poshekhonye\n",
      "Processing Record 33 of Set 2 | east london\n",
      "City not found. Skipping...\n",
      "City not found. Skipping...\n",
      "Processing Record 34 of Set 2 | geraldton\n",
      "Processing Record 35 of Set 2 | bagdarin\n",
      "Processing Record 36 of Set 2 | batagay\n",
      "Processing Record 37 of Set 2 | yellowknife\n",
      "Processing Record 38 of Set 2 | saint-pierre\n",
      "Processing Record 39 of Set 2 | katsuura\n",
      "City not found. Skipping...\n",
      "Processing Record 40 of Set 2 | bredasdorp\n",
      "Processing Record 41 of Set 2 | camana\n",
      "Processing Record 42 of Set 2 | saint-philippe\n",
      "Processing Record 43 of Set 2 | korem\n",
      "Processing Record 44 of Set 2 | antsohihy\n",
      "Processing Record 45 of Set 2 | vaini\n",
      "Processing Record 46 of Set 2 | acarau\n",
      "Processing Record 47 of Set 2 | new norfolk\n",
      "Processing Record 48 of Set 2 | georgetown\n",
      "Processing Record 49 of Set 2 | porto walter\n",
      "Processing Record 1 of Set 3 | lampa\n",
      "Processing Record 2 of Set 3 | tuktoyaktuk\n",
      "Processing Record 3 of Set 3 | rongcheng\n",
      "Processing Record 4 of Set 3 | tiksi\n",
      "Processing Record 5 of Set 3 | bichura\n",
      "Processing Record 6 of Set 3 | jalu\n",
      "Processing Record 7 of Set 3 | sibolga\n",
      "Processing Record 8 of Set 3 | vila velha\n",
      "Processing Record 9 of Set 3 | ribeira grande\n",
      "Processing Record 10 of Set 3 | airai\n",
      "Processing Record 11 of Set 3 | faanui\n",
      "Processing Record 12 of Set 3 | avarua\n",
      "Processing Record 13 of Set 3 | nalut\n",
      "Processing Record 14 of Set 3 | caravelas\n",
      "Processing Record 15 of Set 3 | kodiak\n",
      "Processing Record 16 of Set 3 | shangrao\n",
      "Processing Record 17 of Set 3 | ossora\n",
      "Processing Record 18 of Set 3 | belyy yar\n",
      "Processing Record 19 of Set 3 | kyren\n",
      "Processing Record 20 of Set 3 | isangel\n",
      "Processing Record 21 of Set 3 | mahebourg\n",
      "Processing Record 22 of Set 3 | hobart\n",
      "City not found. Skipping...\n",
      "Processing Record 23 of Set 3 | hirara\n",
      "Processing Record 24 of Set 3 | hasaki\n",
      "Processing Record 25 of Set 3 | mys shmidta\n",
      "Processing Record 26 of Set 3 | kentau\n",
      "Processing Record 27 of Set 3 | saskylakh\n",
      "Processing Record 28 of Set 3 | zherdevka\n",
      "Processing Record 29 of Set 3 | aklavik\n",
      "Processing Record 30 of Set 3 | manono\n",
      "Processing Record 31 of Set 3 | cherskiy\n",
      "Processing Record 32 of Set 3 | guadix\n",
      "Processing Record 33 of Set 3 | cidreira\n",
      "Processing Record 34 of Set 3 | richards bay\n",
      "City not found. Skipping...\n",
      "Processing Record 35 of Set 3 | suntar\n",
      "Processing Record 36 of Set 3 | krasavino\n",
      "Processing Record 37 of Set 3 | clyde river\n",
      "Processing Record 38 of Set 3 | nikolskoye\n",
      "Processing Record 39 of Set 3 | doha\n",
      "City not found. Skipping...\n",
      "Processing Record 40 of Set 3 | upernavik\n",
      "Processing Record 41 of Set 3 | camacha\n",
      "Processing Record 42 of Set 3 | bur gabo\n",
      "City not found. Skipping...\n",
      "Processing Record 43 of Set 3 | barcelona\n",
      "Processing Record 44 of Set 3 | kumbo\n",
      "Processing Record 45 of Set 3 | little current\n",
      "City not found. Skipping...\n",
      "City not found. Skipping...\n",
      "Processing Record 46 of Set 3 | iquique\n",
      "Processing Record 47 of Set 3 | shilong\n",
      "Processing Record 48 of Set 3 | padang\n",
      "Processing Record 49 of Set 3 | dingle\n",
      "Processing Record 1 of Set 4 | tuatapere\n",
      "Processing Record 2 of Set 4 | birobidzhan\n",
      "City not found. Skipping...\n",
      "City not found. Skipping...\n",
      "City not found. Skipping...\n",
      "Processing Record 3 of Set 4 | colares\n",
      "Processing Record 4 of Set 4 | lao cai\n",
      "City not found. Skipping...\n",
      "Processing Record 5 of Set 4 | fereydun kenar\n",
      "Processing Record 6 of Set 4 | byron bay\n",
      "Processing Record 7 of Set 4 | thompson\n",
      "Processing Record 8 of Set 4 | salalah\n",
      "Processing Record 9 of Set 4 | baturaja\n",
      "Processing Record 10 of Set 4 | mercedes\n",
      "Processing Record 11 of Set 4 | leon valley\n",
      "Processing Record 12 of Set 4 | tasiilaq\n",
      "Processing Record 13 of Set 4 | bengkulu\n",
      "Processing Record 14 of Set 4 | hualmay\n",
      "City not found. Skipping...\n",
      "Processing Record 15 of Set 4 | zhigansk\n",
      "Processing Record 16 of Set 4 | kangaba\n",
      "Processing Record 17 of Set 4 | victoria\n",
      "Processing Record 18 of Set 4 | kahului\n",
      "City not found. Skipping...\n",
      "Processing Record 19 of Set 4 | lodwar\n",
      "Processing Record 20 of Set 4 | sola\n",
      "Processing Record 21 of Set 4 | turbat\n",
      "Processing Record 22 of Set 4 | callaway\n",
      "Processing Record 23 of Set 4 | severo-kurilsk\n",
      "Processing Record 24 of Set 4 | hamilton\n",
      "Processing Record 25 of Set 4 | alice springs\n",
      "Processing Record 26 of Set 4 | saldanha\n",
      "Processing Record 27 of Set 4 | qaanaaq\n",
      "Processing Record 28 of Set 4 | kavieng\n",
      "Processing Record 29 of Set 4 | northam\n",
      "Processing Record 30 of Set 4 | pyapon\n",
      "Processing Record 31 of Set 4 | edd\n",
      "Processing Record 32 of Set 4 | kiama\n",
      "Processing Record 33 of Set 4 | hervey bay\n",
      "Processing Record 34 of Set 4 | fortuna\n",
      "Processing Record 35 of Set 4 | karwar\n"
     ]
    },
    {
     "name": "stdout",
     "output_type": "stream",
     "text": [
      "Processing Record 36 of Set 4 | pevek\n",
      "Processing Record 37 of Set 4 | kirakira\n",
      "Processing Record 38 of Set 4 | bethel\n",
      "Processing Record 39 of Set 4 | chokurdakh\n",
      "Processing Record 40 of Set 4 | lebu\n",
      "Processing Record 41 of Set 4 | erenhot\n",
      "Processing Record 42 of Set 4 | codrington\n",
      "Processing Record 43 of Set 4 | santa rosa\n",
      "Processing Record 44 of Set 4 | tutoia\n",
      "City not found. Skipping...\n",
      "Processing Record 45 of Set 4 | atambua\n",
      "Processing Record 46 of Set 4 | boa vista\n",
      "Processing Record 47 of Set 4 | santiago del estero\n",
      "Processing Record 48 of Set 4 | chegdomyn\n",
      "Processing Record 49 of Set 4 | omihachiman\n",
      "Processing Record 1 of Set 5 | viedma\n",
      "Processing Record 2 of Set 5 | port-gentil\n",
      "City not found. Skipping...\n",
      "Processing Record 3 of Set 5 | patitirion\n",
      "Processing Record 4 of Set 5 | cabo san lucas\n",
      "Processing Record 5 of Set 5 | sangar\n",
      "Processing Record 6 of Set 5 | shingu\n",
      "Processing Record 7 of Set 5 | port hardy\n",
      "Processing Record 8 of Set 5 | puerto ayacucho\n",
      "Processing Record 9 of Set 5 | luanshya\n",
      "Processing Record 10 of Set 5 | high rock\n",
      "Processing Record 11 of Set 5 | okhotsk\n",
      "Processing Record 12 of Set 5 | ixtapa\n",
      "City not found. Skipping...\n",
      "Processing Record 13 of Set 5 | tarakan\n",
      "Processing Record 14 of Set 5 | chuy\n",
      "Processing Record 15 of Set 5 | xuchang\n",
      "Processing Record 16 of Set 5 | lalmohan\n",
      "Processing Record 17 of Set 5 | bone\n",
      "Processing Record 18 of Set 5 | magdeburg\n",
      "Processing Record 19 of Set 5 | esperance\n",
      "Processing Record 20 of Set 5 | witu\n",
      "City not found. Skipping...\n",
      "Processing Record 21 of Set 5 | fatezh\n",
      "City not found. Skipping...\n",
      "Processing Record 22 of Set 5 | muzhi\n",
      "Processing Record 23 of Set 5 | juneau\n",
      "Processing Record 24 of Set 5 | kaitangata\n",
      "City not found. Skipping...\n",
      "Processing Record 25 of Set 5 | viseu\n",
      "Processing Record 26 of Set 5 | healdsburg\n",
      "Processing Record 27 of Set 5 | taltal\n",
      "Processing Record 28 of Set 5 | ayan\n",
      "Processing Record 29 of Set 5 | hithadhoo\n",
      "Processing Record 30 of Set 5 | babu\n",
      "Processing Record 31 of Set 5 | boende\n",
      "Processing Record 32 of Set 5 | zhanaozen\n",
      "Processing Record 33 of Set 5 | sergiyevsk\n",
      "Processing Record 34 of Set 5 | chapais\n",
      "City not found. Skipping...\n",
      "City not found. Skipping...\n",
      "City not found. Skipping...\n",
      "Processing Record 35 of Set 5 | avera\n",
      "Processing Record 36 of Set 5 | jaruco\n",
      "Processing Record 37 of Set 5 | husavik\n",
      "Processing Record 38 of Set 5 | luwuk\n",
      "City not found. Skipping...\n",
      "Processing Record 39 of Set 5 | kabare\n",
      "Processing Record 40 of Set 5 | beloha\n",
      "Processing Record 41 of Set 5 | sakaiminato\n",
      "City not found. Skipping...\n",
      "Processing Record 42 of Set 5 | quanzhou\n",
      "Processing Record 43 of Set 5 | sungaipenuh\n",
      "City not found. Skipping...\n",
      "Processing Record 44 of Set 5 | khatanga\n",
      "Processing Record 45 of Set 5 | yerbogachen\n",
      "Processing Record 46 of Set 5 | perth\n",
      "Processing Record 47 of Set 5 | nova iguacu\n",
      "Processing Record 48 of Set 5 | cao bang\n",
      "Processing Record 49 of Set 5 | kot kapura\n",
      "Processing Record 1 of Set 6 | mackay\n",
      "Processing Record 2 of Set 6 | shimoda\n",
      "Processing Record 3 of Set 6 | evensk\n",
      "Processing Record 4 of Set 6 | hambantota\n",
      "Processing Record 5 of Set 6 | longyearbyen\n",
      "City not found. Skipping...\n",
      "Processing Record 6 of Set 6 | porto novo\n",
      "Processing Record 7 of Set 6 | halvad\n",
      "Processing Record 8 of Set 6 | gat\n",
      "Processing Record 9 of Set 6 | gitega\n",
      "Processing Record 10 of Set 6 | san policarpo\n",
      "Processing Record 11 of Set 6 | cap malheureux\n",
      "Processing Record 12 of Set 6 | yanam\n",
      "Processing Record 13 of Set 6 | nanortalik\n",
      "Processing Record 14 of Set 6 | allende\n",
      "Processing Record 15 of Set 6 | kattivakkam\n",
      "Processing Record 16 of Set 6 | russell\n",
      "Processing Record 17 of Set 6 | grajewo\n",
      "Processing Record 18 of Set 6 | rastolita\n",
      "Processing Record 19 of Set 6 | varkaus\n",
      "Processing Record 20 of Set 6 | tilichiki\n",
      "Processing Record 21 of Set 6 | tres picos\n",
      "Processing Record 22 of Set 6 | bandarbeyla\n",
      "Processing Record 23 of Set 6 | swan hill\n",
      "Processing Record 24 of Set 6 | dikson\n",
      "City not found. Skipping...\n",
      "Processing Record 25 of Set 6 | vestmanna\n",
      "Processing Record 26 of Set 6 | wilmington\n",
      "Processing Record 27 of Set 6 | edson\n",
      "Processing Record 28 of Set 6 | mehamn\n",
      "Processing Record 29 of Set 6 | lobito\n",
      "Processing Record 30 of Set 6 | makakilo city\n",
      "Processing Record 31 of Set 6 | half moon bay\n",
      "Processing Record 32 of Set 6 | comodoro rivadavia\n",
      "Processing Record 33 of Set 6 | tadine\n",
      "Processing Record 34 of Set 6 | bilibino\n",
      "Processing Record 35 of Set 6 | mandalgovi\n",
      "Processing Record 36 of Set 6 | goderich\n",
      "Processing Record 37 of Set 6 | nantucket\n",
      "Processing Record 38 of Set 6 | pochutla\n",
      "Processing Record 39 of Set 6 | udachnyy\n",
      "Processing Record 40 of Set 6 | phonhong\n",
      "Processing Record 41 of Set 6 | jaisalmer\n",
      "Processing Record 42 of Set 6 | tevriz\n",
      "Processing Record 43 of Set 6 | ngunguru\n",
      "Processing Record 44 of Set 6 | bathsheba\n",
      "City not found. Skipping...\n",
      "Processing Record 45 of Set 6 | locri\n",
      "Processing Record 46 of Set 6 | guerrero negro\n",
      "Processing Record 47 of Set 6 | flin flon\n",
      "Processing Record 48 of Set 6 | dali\n",
      "Processing Record 49 of Set 6 | gumdag\n",
      "Processing Record 1 of Set 7 | llata\n",
      "Processing Record 2 of Set 7 | banepa\n",
      "Processing Record 3 of Set 7 | constitucion\n",
      "Processing Record 4 of Set 7 | krasnoarmeysk\n",
      "Processing Record 5 of Set 7 | ancud\n",
      "Processing Record 6 of Set 7 | amos\n",
      "Processing Record 7 of Set 7 | maumere\n",
      "Processing Record 8 of Set 7 | san ramon de la nueva oran\n",
      "Processing Record 9 of Set 7 | jevargi\n",
      "Processing Record 10 of Set 7 | garowe\n",
      "Processing Record 11 of Set 7 | vagur\n",
      "Processing Record 12 of Set 7 | akdepe\n",
      "Processing Record 13 of Set 7 | agadez\n",
      "Processing Record 14 of Set 7 | qesarya\n",
      "Processing Record 15 of Set 7 | tautira\n",
      "Processing Record 16 of Set 7 | marmaris\n",
      "Processing Record 17 of Set 7 | dryden\n",
      "Processing Record 18 of Set 7 | vidim\n",
      "Processing Record 19 of Set 7 | djambala\n",
      "Processing Record 20 of Set 7 | hofn\n",
      "Processing Record 21 of Set 7 | yeniseysk\n",
      "Processing Record 22 of Set 7 | pacifica\n",
      "Processing Record 23 of Set 7 | sandy bay\n",
      "Processing Record 24 of Set 7 | kiunga\n",
      "Processing Record 25 of Set 7 | mangan\n",
      "Processing Record 26 of Set 7 | chiredzi\n",
      "Processing Record 27 of Set 7 | axim\n",
      "Processing Record 28 of Set 7 | belle fourche\n",
      "City not found. Skipping...\n",
      "Processing Record 29 of Set 7 | margate\n",
      "City not found. Skipping...\n",
      "Processing Record 30 of Set 7 | touros\n",
      "Processing Record 31 of Set 7 | hole narsipur\n",
      "City not found. Skipping...\n",
      "Processing Record 32 of Set 7 | haines junction\n",
      "Processing Record 33 of Set 7 | yelabuga\n",
      "Processing Record 34 of Set 7 | pierre\n",
      "Processing Record 35 of Set 7 | xining\n",
      "Processing Record 36 of Set 7 | chiapilla\n",
      "Processing Record 37 of Set 7 | vilyuysk\n",
      "Processing Record 38 of Set 7 | marrakesh\n",
      "Processing Record 39 of Set 7 | riyadh\n",
      "Processing Record 40 of Set 7 | sept-iles\n",
      "Processing Record 41 of Set 7 | guilin\n",
      "Processing Record 42 of Set 7 | zhezkazgan\n",
      "Processing Record 43 of Set 7 | vidalia\n",
      "Processing Record 44 of Set 7 | camalu\n",
      "Processing Record 45 of Set 7 | griffith\n",
      "Processing Record 46 of Set 7 | corinto\n",
      "Processing Record 47 of Set 7 | lima\n",
      "Processing Record 48 of Set 7 | vestmannaeyjar\n",
      "Processing Record 49 of Set 7 | narsaq\n",
      "City not found. Skipping...\n",
      "Processing Record 1 of Set 8 | kemijarvi\n",
      "Processing Record 2 of Set 8 | hami\n",
      "Processing Record 3 of Set 8 | neryungri\n",
      "Processing Record 4 of Set 8 | inta\n",
      "Processing Record 5 of Set 8 | lakheri\n",
      "Processing Record 6 of Set 8 | aykhal\n",
      "Processing Record 7 of Set 8 | rio gallegos\n",
      "City not found. Skipping...\n",
      "Processing Record 8 of Set 8 | portland\n",
      "Processing Record 9 of Set 8 | tateyama\n",
      "Processing Record 10 of Set 8 | anadyr\n",
      "Processing Record 11 of Set 8 | high level\n",
      "Processing Record 12 of Set 8 | port lincoln\n",
      "City not found. Skipping...\n",
      "City not found. Skipping...\n",
      "Processing Record 13 of Set 8 | sheridan\n",
      "City not found. Skipping...\n",
      "Processing Record 14 of Set 8 | kimbe\n",
      "Processing Record 15 of Set 8 | abu kamal\n",
      "Processing Record 16 of Set 8 | dunedin\n",
      "Processing Record 17 of Set 8 | goure\n",
      "Processing Record 18 of Set 8 | kualakapuas\n",
      "City not found. Skipping...\n",
      "Processing Record 19 of Set 8 | diffa\n",
      "Processing Record 20 of Set 8 | broome\n",
      "Processing Record 21 of Set 8 | seoul\n",
      "Processing Record 22 of Set 8 | sorong\n",
      "Processing Record 23 of Set 8 | champerico\n",
      "Processing Record 24 of Set 8 | san jose\n"
     ]
    },
    {
     "name": "stdout",
     "output_type": "stream",
     "text": [
      "Processing Record 25 of Set 8 | rosetta\n",
      "Processing Record 26 of Set 8 | kalemie\n",
      "Processing Record 27 of Set 8 | okato\n",
      "Processing Record 28 of Set 8 | poum\n",
      "Processing Record 29 of Set 8 | yulara\n",
      "Processing Record 30 of Set 8 | sinnamary\n",
      "Processing Record 31 of Set 8 | aswan\n",
      "Processing Record 32 of Set 8 | laguna\n",
      "Processing Record 33 of Set 8 | mogok\n",
      "Processing Record 34 of Set 8 | talnakh\n",
      "City not found. Skipping...\n",
      "Processing Record 35 of Set 8 | udon thani\n",
      "Processing Record 36 of Set 8 | coquimbo\n",
      "Processing Record 37 of Set 8 | kuraymah\n",
      "Processing Record 38 of Set 8 | ipixuna\n",
      "Processing Record 39 of Set 8 | aguimes\n",
      "Processing Record 40 of Set 8 | torgau\n",
      "Processing Record 41 of Set 8 | turukhansk\n",
      "Processing Record 42 of Set 8 | palauig\n",
      "Processing Record 43 of Set 8 | capelinha\n",
      "Processing Record 44 of Set 8 | cockburn town\n",
      "Processing Record 45 of Set 8 | carutapera\n",
      "Processing Record 46 of Set 8 | baie-comeau\n",
      "Processing Record 47 of Set 8 | huarmey\n",
      "Processing Record 48 of Set 8 | wilmington island\n",
      "City not found. Skipping...\n",
      "Processing Record 49 of Set 8 | dera din panah\n",
      "Processing Record 1 of Set 9 | guozhen\n",
      "Processing Record 2 of Set 9 | chunskiy\n",
      "Processing Record 3 of Set 9 | souillac\n",
      "Processing Record 4 of Set 9 | leua\n",
      "Processing Record 5 of Set 9 | ashtabula\n",
      "City not found. Skipping...\n",
      "Processing Record 6 of Set 9 | meridian\n",
      "Processing Record 7 of Set 9 | vila franca do campo\n",
      "Processing Record 8 of Set 9 | san carlos de bariloche\n",
      "Processing Record 9 of Set 9 | pimentel\n",
      "Processing Record 10 of Set 9 | port blair\n",
      "Processing Record 11 of Set 9 | pangnirtung\n",
      "Processing Record 12 of Set 9 | huilong\n",
      "Processing Record 13 of Set 9 | sisimiut\n",
      "Processing Record 14 of Set 9 | obninsk\n",
      "Processing Record 15 of Set 9 | san buenaventura\n",
      "Processing Record 16 of Set 9 | katobu\n",
      "Processing Record 17 of Set 9 | shelburne\n",
      "Processing Record 18 of Set 9 | camacari\n",
      "Processing Record 19 of Set 9 | bambanglipuro\n",
      "Processing Record 20 of Set 9 | pacific grove\n",
      "Processing Record 21 of Set 9 | yatou\n",
      "Processing Record 22 of Set 9 | monmouth\n",
      "Processing Record 23 of Set 9 | aquiraz\n",
      "City not found. Skipping...\n",
      "Processing Record 24 of Set 9 | madingou\n",
      "Processing Record 25 of Set 9 | grand gaube\n",
      "City not found. Skipping...\n",
      "Processing Record 26 of Set 9 | olafsvik\n",
      "Processing Record 27 of Set 9 | miraflores\n",
      "Processing Record 28 of Set 9 | faya\n",
      "Processing Record 29 of Set 9 | bowen\n",
      "Processing Record 30 of Set 9 | inirida\n",
      "Processing Record 31 of Set 9 | fort saint john\n",
      "Processing Record 32 of Set 9 | caluquembe\n",
      "Processing Record 33 of Set 9 | prince rupert\n",
      "Processing Record 34 of Set 9 | port moresby\n",
      "Processing Record 35 of Set 9 | nijar\n",
      "Processing Record 36 of Set 9 | ambilobe\n",
      "Processing Record 37 of Set 9 | ust-ishim\n",
      "Processing Record 38 of Set 9 | narsipatnam\n",
      "Processing Record 39 of Set 9 | sarangani\n",
      "City not found. Skipping...\n",
      "Processing Record 40 of Set 9 | andenes\n",
      "Processing Record 41 of Set 9 | kysyl-syr\n",
      "Processing Record 42 of Set 9 | sao felix do xingu\n",
      "Processing Record 43 of Set 9 | severodvinsk\n",
      "Processing Record 44 of Set 9 | taoudenni\n",
      "Processing Record 45 of Set 9 | shugurovo\n",
      "Processing Record 46 of Set 9 | plateros\n",
      "Processing Record 47 of Set 9 | jibuti\n",
      "Processing Record 48 of Set 9 | bacalar\n",
      "Processing Record 49 of Set 9 | alofi\n",
      "Processing Record 1 of Set 10 | alexandria\n",
      "Processing Record 2 of Set 10 | samfya\n",
      "Processing Record 3 of Set 10 | oranzherei\n",
      "Processing Record 4 of Set 10 | muravlenko\n",
      "Processing Record 5 of Set 10 | maniitsoq\n",
      "Processing Record 6 of Set 10 | eureka\n",
      "Processing Record 7 of Set 10 | fairbanks\n",
      "Processing Record 8 of Set 10 | rapar\n",
      "Processing Record 9 of Set 10 | chilca\n",
      "Processing Record 10 of Set 10 | paita\n",
      "Processing Record 11 of Set 10 | ilulissat\n",
      "City not found. Skipping...\n",
      "Processing Record 12 of Set 10 | wewak\n",
      "Processing Record 13 of Set 10 | necochea\n",
      "Processing Record 14 of Set 10 | mayfield\n",
      "Processing Record 15 of Set 10 | aljezur\n",
      "Processing Record 16 of Set 10 | port macquarie\n",
      "Processing Record 17 of Set 10 | tobane\n",
      "Processing Record 18 of Set 10 | oriximina\n",
      "Processing Record 19 of Set 10 | komsomolskiy\n",
      "Processing Record 20 of Set 10 | sun valley\n",
      "City not found. Skipping...\n",
      "Processing Record 21 of Set 10 | sinjai\n",
      "Processing Record 22 of Set 10 | hidalgo\n",
      "Processing Record 23 of Set 10 | pasca\n",
      "Processing Record 24 of Set 10 | soto la marina\n",
      "City not found. Skipping...\n",
      "Processing Record 25 of Set 10 | saint-georges\n",
      "Processing Record 26 of Set 10 | urengoy\n",
      "Processing Record 27 of Set 10 | san ramon\n",
      "Processing Record 28 of Set 10 | talaya\n",
      "Processing Record 29 of Set 10 | regeneracao\n",
      "Processing Record 30 of Set 10 | mayskiy\n",
      "Processing Record 31 of Set 10 | alice\n",
      "Processing Record 32 of Set 10 | andros town\n",
      "City not found. Skipping...\n",
      "Processing Record 33 of Set 10 | kiruna\n",
      "Processing Record 34 of Set 10 | port said\n",
      "Processing Record 35 of Set 10 | boras\n",
      "Processing Record 36 of Set 10 | sioux lookout\n",
      "Processing Record 37 of Set 10 | rocha\n",
      "Processing Record 38 of Set 10 | uvinza\n",
      "Processing Record 39 of Set 10 | nsanje\n",
      "Processing Record 40 of Set 10 | sao filipe\n",
      "Processing Record 41 of Set 10 | price\n",
      "Processing Record 42 of Set 10 | roma\n",
      "Processing Record 43 of Set 10 | pyay\n",
      "Processing Record 44 of Set 10 | nizhniy kuranakh\n",
      "Processing Record 45 of Set 10 | nemuro\n",
      "Processing Record 46 of Set 10 | vardo\n",
      "Processing Record 47 of Set 10 | kaeo\n",
      "City not found. Skipping...\n",
      "Processing Record 48 of Set 10 | inuvik\n",
      "Processing Record 49 of Set 10 | rio grande\n",
      "Processing Record 1 of Set 11 | villanueva\n",
      "Processing Record 2 of Set 11 | rawlins\n",
      "Processing Record 3 of Set 11 | pirapora\n",
      "Processing Record 4 of Set 11 | novovyazniki\n",
      "Processing Record 5 of Set 11 | jiancheng\n",
      "Processing Record 6 of Set 11 | pontes e lacerda\n",
      "Processing Record 7 of Set 11 | muisne\n",
      "Processing Record 8 of Set 11 | izumo\n",
      "Processing Record 9 of Set 11 | teguldet\n",
      "Processing Record 10 of Set 11 | maarianhamina\n",
      "Processing Record 11 of Set 11 | grand centre\n",
      "Processing Record 12 of Set 11 | hobyo\n",
      "Processing Record 13 of Set 11 | khani\n",
      "Processing Record 14 of Set 11 | sitka\n",
      "Processing Record 15 of Set 11 | kaura namoda\n",
      "Processing Record 16 of Set 11 | woodburn\n",
      "Processing Record 17 of Set 11 | pingliang\n",
      "Processing Record 18 of Set 11 | kupang\n",
      "Processing Record 19 of Set 11 | borodino\n",
      "City not found. Skipping...\n",
      "Processing Record 20 of Set 11 | kobryn\n",
      "Processing Record 21 of Set 11 | auki\n",
      "Processing Record 22 of Set 11 | valparaiso\n",
      "Processing Record 23 of Set 11 | otukpo\n",
      "Processing Record 24 of Set 11 | lompoc\n",
      "Processing Record 25 of Set 11 | vicuna\n",
      "Processing Record 26 of Set 11 | dubbo\n",
      "Processing Record 27 of Set 11 | lakes entrance\n",
      "Processing Record 28 of Set 11 | luba\n",
      "Processing Record 29 of Set 11 | honolulu\n",
      "Processing Record 30 of Set 11 | taketa\n",
      "Processing Record 31 of Set 11 | rio rita\n",
      "Processing Record 32 of Set 11 | plouzane\n",
      "Processing Record 33 of Set 11 | mattawa\n",
      "Processing Record 34 of Set 11 | havelock\n",
      "Processing Record 35 of Set 11 | san rafael\n",
      "Processing Record 36 of Set 11 | beringovskiy\n",
      "Processing Record 37 of Set 11 | lixourion\n",
      "Processing Record 38 of Set 11 | belaya gora\n",
      "Processing Record 39 of Set 11 | salinas\n",
      "Processing Record 40 of Set 11 | yendi\n",
      "Processing Record 41 of Set 11 | vilhena\n",
      "Processing Record 42 of Set 11 | baykit\n",
      "Processing Record 43 of Set 11 | stokmarknes\n",
      "Processing Record 44 of Set 11 | vila\n",
      "Processing Record 45 of Set 11 | porto santo\n",
      "Processing Record 46 of Set 11 | charters towers\n",
      "Processing Record 47 of Set 11 | odda\n",
      "Processing Record 48 of Set 11 | burnie\n",
      "Processing Record 49 of Set 11 | muros\n",
      "Processing Record 1 of Set 12 | trairi\n",
      "------------------------------\n",
      "Data Retrieval Complete\n",
      "------------------------------\n"
     ]
    }
   ],
   "source": [
    "city_two = []\n",
    "cloudiness = []\n",
    "date = []\n",
    "humidity = []\n",
    "lat = []\n",
    "lng = []\n",
    "max_temp = []\n",
    "wind_speed = []\n",
    "country = []\n",
    "\n",
    "# set initial count quantities for organization\n",
    "count_one = 0\n",
    "set_one = 1\n",
    "\n",
    "# loops for creating dataframe columns\n",
    "for city in cities:\n",
    "    try:\n",
    "        response = requests.get(query_url + city.replace(\" \",\"&\")).json()\n",
    "        cloudiness.append(response['clouds']['all'])\n",
    "        country.append(response['sys']['country'])\n",
    "        date.append(response['dt'])\n",
    "        humidity.append(response['main']['humidity'])\n",
    "        lat.append(response['coord']['lat'])\n",
    "        lng.append(response['coord']['lon'])\n",
    "        max_temp.append(response['main']['temp_max'])\n",
    "        wind_speed.append(response['wind']['speed'])\n",
    "        if count_one > 48:\n",
    "            count_one = 1\n",
    "            set_one += 1\n",
    "            city_two.append(city)\n",
    "        else:\n",
    "            count_one += 1\n",
    "            city_two.append(city)\n",
    "        time.sleep(1)\n",
    "        print(f\"Processing Record {count_one} of Set {set_one} | {city}\")\n",
    "    except Exception:\n",
    "        print(\"City not found. Skipping...\")\n",
    "print(\"------------------------------\\nData Retrieval Complete\\n------------------------------\")\n",
    "          "
   ]
  },
  {
   "cell_type": "markdown",
   "metadata": {},
   "source": [
    "### Convert Raw Data to DataFrame\n",
    "* Export the city data into a .csv.\n",
    "* Display the DataFrame"
   ]
  },
  {
   "cell_type": "code",
   "execution_count": 53,
   "metadata": {},
   "outputs": [
    {
     "data": {
      "text/html": [
       "<div>\n",
       "<style scoped>\n",
       "    .dataframe tbody tr th:only-of-type {\n",
       "        vertical-align: middle;\n",
       "    }\n",
       "\n",
       "    .dataframe tbody tr th {\n",
       "        vertical-align: top;\n",
       "    }\n",
       "\n",
       "    .dataframe thead th {\n",
       "        text-align: right;\n",
       "    }\n",
       "</style>\n",
       "<table border=\"1\" class=\"dataframe\">\n",
       "  <thead>\n",
       "    <tr style=\"text-align: right;\">\n",
       "      <th></th>\n",
       "      <th>City</th>\n",
       "      <th>Lat</th>\n",
       "      <th>Lng</th>\n",
       "      <th>Max Temp</th>\n",
       "      <th>Humidity</th>\n",
       "      <th>Cloudiness</th>\n",
       "      <th>Wind Speed</th>\n",
       "      <th>Country</th>\n",
       "      <th>Date</th>\n",
       "    </tr>\n",
       "  </thead>\n",
       "  <tbody>\n",
       "    <tr>\n",
       "      <th>0</th>\n",
       "      <td>cape town</td>\n",
       "      <td>-36.41</td>\n",
       "      <td>-71.90</td>\n",
       "      <td>50.00</td>\n",
       "      <td>81</td>\n",
       "      <td>95</td>\n",
       "      <td>9.17</td>\n",
       "      <td>CL</td>\n",
       "      <td>1600838272</td>\n",
       "    </tr>\n",
       "    <tr>\n",
       "      <th>1</th>\n",
       "      <td>kapaa</td>\n",
       "      <td>22.08</td>\n",
       "      <td>-159.32</td>\n",
       "      <td>80.60</td>\n",
       "      <td>69</td>\n",
       "      <td>40</td>\n",
       "      <td>13.87</td>\n",
       "      <td>US</td>\n",
       "      <td>1600838273</td>\n",
       "    </tr>\n",
       "    <tr>\n",
       "      <th>2</th>\n",
       "      <td>castro</td>\n",
       "      <td>-24.79</td>\n",
       "      <td>-50.01</td>\n",
       "      <td>50.88</td>\n",
       "      <td>86</td>\n",
       "      <td>75</td>\n",
       "      <td>11.21</td>\n",
       "      <td>BR</td>\n",
       "      <td>1600838066</td>\n",
       "    </tr>\n",
       "    <tr>\n",
       "      <th>3</th>\n",
       "      <td>ponta do sol</td>\n",
       "      <td>38.73</td>\n",
       "      <td>-28.27</td>\n",
       "      <td>64.18</td>\n",
       "      <td>85</td>\n",
       "      <td>97</td>\n",
       "      <td>23.62</td>\n",
       "      <td>PT</td>\n",
       "      <td>1600838276</td>\n",
       "    </tr>\n",
       "    <tr>\n",
       "      <th>4</th>\n",
       "      <td>leningradskiy</td>\n",
       "      <td>69.38</td>\n",
       "      <td>178.42</td>\n",
       "      <td>39.79</td>\n",
       "      <td>86</td>\n",
       "      <td>100</td>\n",
       "      <td>20.02</td>\n",
       "      <td>RU</td>\n",
       "      <td>1600838277</td>\n",
       "    </tr>\n",
       "    <tr>\n",
       "      <th>...</th>\n",
       "      <td>...</td>\n",
       "      <td>...</td>\n",
       "      <td>...</td>\n",
       "      <td>...</td>\n",
       "      <td>...</td>\n",
       "      <td>...</td>\n",
       "      <td>...</td>\n",
       "      <td>...</td>\n",
       "      <td>...</td>\n",
       "    </tr>\n",
       "    <tr>\n",
       "      <th>535</th>\n",
       "      <td>charters towers</td>\n",
       "      <td>38.57</td>\n",
       "      <td>-83.43</td>\n",
       "      <td>51.80</td>\n",
       "      <td>93</td>\n",
       "      <td>1</td>\n",
       "      <td>3.36</td>\n",
       "      <td>US</td>\n",
       "      <td>1600838897</td>\n",
       "    </tr>\n",
       "    <tr>\n",
       "      <th>536</th>\n",
       "      <td>odda</td>\n",
       "      <td>60.07</td>\n",
       "      <td>6.55</td>\n",
       "      <td>55.99</td>\n",
       "      <td>91</td>\n",
       "      <td>100</td>\n",
       "      <td>5.99</td>\n",
       "      <td>NO</td>\n",
       "      <td>1600838898</td>\n",
       "    </tr>\n",
       "    <tr>\n",
       "      <th>537</th>\n",
       "      <td>burnie</td>\n",
       "      <td>-41.07</td>\n",
       "      <td>145.92</td>\n",
       "      <td>55.99</td>\n",
       "      <td>57</td>\n",
       "      <td>71</td>\n",
       "      <td>15.01</td>\n",
       "      <td>AU</td>\n",
       "      <td>1600838899</td>\n",
       "    </tr>\n",
       "    <tr>\n",
       "      <th>538</th>\n",
       "      <td>muros</td>\n",
       "      <td>42.78</td>\n",
       "      <td>-9.06</td>\n",
       "      <td>63.00</td>\n",
       "      <td>92</td>\n",
       "      <td>84</td>\n",
       "      <td>4.00</td>\n",
       "      <td>ES</td>\n",
       "      <td>1600838900</td>\n",
       "    </tr>\n",
       "    <tr>\n",
       "      <th>539</th>\n",
       "      <td>trairi</td>\n",
       "      <td>-3.28</td>\n",
       "      <td>-39.27</td>\n",
       "      <td>77.45</td>\n",
       "      <td>77</td>\n",
       "      <td>39</td>\n",
       "      <td>12.46</td>\n",
       "      <td>BR</td>\n",
       "      <td>1600838901</td>\n",
       "    </tr>\n",
       "  </tbody>\n",
       "</table>\n",
       "<p>540 rows × 9 columns</p>\n",
       "</div>"
      ],
      "text/plain": [
       "                City    Lat     Lng  Max Temp  Humidity  Cloudiness  \\\n",
       "0          cape town -36.41  -71.90     50.00        81          95   \n",
       "1              kapaa  22.08 -159.32     80.60        69          40   \n",
       "2             castro -24.79  -50.01     50.88        86          75   \n",
       "3       ponta do sol  38.73  -28.27     64.18        85          97   \n",
       "4      leningradskiy  69.38  178.42     39.79        86         100   \n",
       "..               ...    ...     ...       ...       ...         ...   \n",
       "535  charters towers  38.57  -83.43     51.80        93           1   \n",
       "536             odda  60.07    6.55     55.99        91         100   \n",
       "537           burnie -41.07  145.92     55.99        57          71   \n",
       "538            muros  42.78   -9.06     63.00        92          84   \n",
       "539           trairi  -3.28  -39.27     77.45        77          39   \n",
       "\n",
       "     Wind Speed Country        Date  \n",
       "0          9.17      CL  1600838272  \n",
       "1         13.87      US  1600838273  \n",
       "2         11.21      BR  1600838066  \n",
       "3         23.62      PT  1600838276  \n",
       "4         20.02      RU  1600838277  \n",
       "..          ...     ...         ...  \n",
       "535        3.36      US  1600838897  \n",
       "536        5.99      NO  1600838898  \n",
       "537       15.01      AU  1600838899  \n",
       "538        4.00      ES  1600838900  \n",
       "539       12.46      BR  1600838901  \n",
       "\n",
       "[540 rows x 9 columns]"
      ]
     },
     "execution_count": 53,
     "metadata": {},
     "output_type": "execute_result"
    }
   ],
   "source": [
    "index = range(0, len(city_two))\n",
    "# Create dictionary with data collected\n",
    "weather_dict = {\"City\": city_two, \"Lat\": lat, \"Lng\": lng, \n",
    "                \"Max Temp\": max_temp, \"Humidity\": humidity, \"Cloudiness\": cloudiness,\n",
    "               \"Wind Speed\": wind_speed, \"Country\": country, \"Date\": date}\n",
    "# Turn dictionary into dataframe\n",
    "weather_df = pd.DataFrame(weather_dict, index=index)\n",
    "weather_df.to_csv(csvfile, index=False)\n",
    "weather_df"
   ]
  },
  {
   "cell_type": "markdown",
   "metadata": {},
   "source": [
    "## Inspect the data and remove the cities where the humidity > 100%.\n",
    "----\n",
    "Skip this step if there are no cities that have humidity > 100%. "
   ]
  },
  {
   "cell_type": "code",
   "execution_count": 25,
   "metadata": {},
   "outputs": [
    {
     "data": {
      "text/html": [
       "<div>\n",
       "<style scoped>\n",
       "    .dataframe tbody tr th:only-of-type {\n",
       "        vertical-align: middle;\n",
       "    }\n",
       "\n",
       "    .dataframe tbody tr th {\n",
       "        vertical-align: top;\n",
       "    }\n",
       "\n",
       "    .dataframe thead th {\n",
       "        text-align: right;\n",
       "    }\n",
       "</style>\n",
       "<table border=\"1\" class=\"dataframe\">\n",
       "  <thead>\n",
       "    <tr style=\"text-align: right;\">\n",
       "      <th></th>\n",
       "      <th>City</th>\n",
       "      <th>Lat</th>\n",
       "      <th>Lng</th>\n",
       "      <th>Max Temp</th>\n",
       "      <th>Humidity</th>\n",
       "      <th>Cloudiness</th>\n",
       "      <th>Wind Speed</th>\n",
       "      <th>Country</th>\n",
       "      <th>Date</th>\n",
       "    </tr>\n",
       "  </thead>\n",
       "  <tbody>\n",
       "    <tr>\n",
       "      <th>0</th>\n",
       "      <td>cape town</td>\n",
       "      <td>-36.41</td>\n",
       "      <td>-71.90</td>\n",
       "      <td>50.00</td>\n",
       "      <td>81</td>\n",
       "      <td>95</td>\n",
       "      <td>9.17</td>\n",
       "      <td>CL</td>\n",
       "      <td>1600838272</td>\n",
       "    </tr>\n",
       "    <tr>\n",
       "      <th>1</th>\n",
       "      <td>kapaa</td>\n",
       "      <td>22.08</td>\n",
       "      <td>-159.32</td>\n",
       "      <td>80.60</td>\n",
       "      <td>69</td>\n",
       "      <td>40</td>\n",
       "      <td>13.87</td>\n",
       "      <td>US</td>\n",
       "      <td>1600838273</td>\n",
       "    </tr>\n",
       "    <tr>\n",
       "      <th>2</th>\n",
       "      <td>castro</td>\n",
       "      <td>-24.79</td>\n",
       "      <td>-50.01</td>\n",
       "      <td>50.88</td>\n",
       "      <td>86</td>\n",
       "      <td>75</td>\n",
       "      <td>11.21</td>\n",
       "      <td>BR</td>\n",
       "      <td>1600838066</td>\n",
       "    </tr>\n",
       "    <tr>\n",
       "      <th>3</th>\n",
       "      <td>ponta do sol</td>\n",
       "      <td>38.73</td>\n",
       "      <td>-28.27</td>\n",
       "      <td>64.18</td>\n",
       "      <td>85</td>\n",
       "      <td>97</td>\n",
       "      <td>23.62</td>\n",
       "      <td>PT</td>\n",
       "      <td>1600838276</td>\n",
       "    </tr>\n",
       "    <tr>\n",
       "      <th>4</th>\n",
       "      <td>leningradskiy</td>\n",
       "      <td>69.38</td>\n",
       "      <td>178.42</td>\n",
       "      <td>39.79</td>\n",
       "      <td>86</td>\n",
       "      <td>100</td>\n",
       "      <td>20.02</td>\n",
       "      <td>RU</td>\n",
       "      <td>1600838277</td>\n",
       "    </tr>\n",
       "    <tr>\n",
       "      <th>...</th>\n",
       "      <td>...</td>\n",
       "      <td>...</td>\n",
       "      <td>...</td>\n",
       "      <td>...</td>\n",
       "      <td>...</td>\n",
       "      <td>...</td>\n",
       "      <td>...</td>\n",
       "      <td>...</td>\n",
       "      <td>...</td>\n",
       "    </tr>\n",
       "    <tr>\n",
       "      <th>535</th>\n",
       "      <td>charters towers</td>\n",
       "      <td>38.57</td>\n",
       "      <td>-83.43</td>\n",
       "      <td>51.80</td>\n",
       "      <td>93</td>\n",
       "      <td>1</td>\n",
       "      <td>3.36</td>\n",
       "      <td>US</td>\n",
       "      <td>1600838897</td>\n",
       "    </tr>\n",
       "    <tr>\n",
       "      <th>536</th>\n",
       "      <td>odda</td>\n",
       "      <td>60.07</td>\n",
       "      <td>6.55</td>\n",
       "      <td>55.99</td>\n",
       "      <td>91</td>\n",
       "      <td>100</td>\n",
       "      <td>5.99</td>\n",
       "      <td>NO</td>\n",
       "      <td>1600838898</td>\n",
       "    </tr>\n",
       "    <tr>\n",
       "      <th>537</th>\n",
       "      <td>burnie</td>\n",
       "      <td>-41.07</td>\n",
       "      <td>145.92</td>\n",
       "      <td>55.99</td>\n",
       "      <td>57</td>\n",
       "      <td>71</td>\n",
       "      <td>15.01</td>\n",
       "      <td>AU</td>\n",
       "      <td>1600838899</td>\n",
       "    </tr>\n",
       "    <tr>\n",
       "      <th>538</th>\n",
       "      <td>muros</td>\n",
       "      <td>42.78</td>\n",
       "      <td>-9.06</td>\n",
       "      <td>63.00</td>\n",
       "      <td>92</td>\n",
       "      <td>84</td>\n",
       "      <td>4.00</td>\n",
       "      <td>ES</td>\n",
       "      <td>1600838900</td>\n",
       "    </tr>\n",
       "    <tr>\n",
       "      <th>539</th>\n",
       "      <td>trairi</td>\n",
       "      <td>-3.28</td>\n",
       "      <td>-39.27</td>\n",
       "      <td>77.45</td>\n",
       "      <td>77</td>\n",
       "      <td>39</td>\n",
       "      <td>12.46</td>\n",
       "      <td>BR</td>\n",
       "      <td>1600838901</td>\n",
       "    </tr>\n",
       "  </tbody>\n",
       "</table>\n",
       "<p>521 rows × 9 columns</p>\n",
       "</div>"
      ],
      "text/plain": [
       "                City    Lat     Lng  Max Temp  Humidity  Cloudiness  \\\n",
       "0          cape town -36.41  -71.90     50.00        81          95   \n",
       "1              kapaa  22.08 -159.32     80.60        69          40   \n",
       "2             castro -24.79  -50.01     50.88        86          75   \n",
       "3       ponta do sol  38.73  -28.27     64.18        85          97   \n",
       "4      leningradskiy  69.38  178.42     39.79        86         100   \n",
       "..               ...    ...     ...       ...       ...         ...   \n",
       "535  charters towers  38.57  -83.43     51.80        93           1   \n",
       "536             odda  60.07    6.55     55.99        91         100   \n",
       "537           burnie -41.07  145.92     55.99        57          71   \n",
       "538            muros  42.78   -9.06     63.00        92          84   \n",
       "539           trairi  -3.28  -39.27     77.45        77          39   \n",
       "\n",
       "     Wind Speed Country        Date  \n",
       "0          9.17      CL  1600838272  \n",
       "1         13.87      US  1600838273  \n",
       "2         11.21      BR  1600838066  \n",
       "3         23.62      PT  1600838276  \n",
       "4         20.02      RU  1600838277  \n",
       "..          ...     ...         ...  \n",
       "535        3.36      US  1600838897  \n",
       "536        5.99      NO  1600838898  \n",
       "537       15.01      AU  1600838899  \n",
       "538        4.00      ES  1600838900  \n",
       "539       12.46      BR  1600838901  \n",
       "\n",
       "[521 rows x 9 columns]"
      ]
     },
     "execution_count": 25,
     "metadata": {},
     "output_type": "execute_result"
    }
   ],
   "source": [
    "# filter cities with humidity less than 100%\n",
    "under_100 = weather_df[weather_df[\"Humidity\"] < 100]\n",
    "under_100"
   ]
  },
  {
   "cell_type": "code",
   "execution_count": 26,
   "metadata": {},
   "outputs": [
    {
     "data": {
      "text/plain": [
       "Int64Index([], dtype='int64')"
      ]
     },
     "execution_count": 26,
     "metadata": {},
     "output_type": "execute_result"
    }
   ],
   "source": [
    "#  Get the indices of cities that have humidity over 100%.\n",
    "over_100 = weather_df.index[weather_df[\"Humidity\"] > 100]\n",
    "over_100"
   ]
  },
  {
   "cell_type": "code",
   "execution_count": 28,
   "metadata": {},
   "outputs": [
    {
     "data": {
      "text/html": [
       "<div>\n",
       "<style scoped>\n",
       "    .dataframe tbody tr th:only-of-type {\n",
       "        vertical-align: middle;\n",
       "    }\n",
       "\n",
       "    .dataframe tbody tr th {\n",
       "        vertical-align: top;\n",
       "    }\n",
       "\n",
       "    .dataframe thead th {\n",
       "        text-align: right;\n",
       "    }\n",
       "</style>\n",
       "<table border=\"1\" class=\"dataframe\">\n",
       "  <thead>\n",
       "    <tr style=\"text-align: right;\">\n",
       "      <th></th>\n",
       "      <th>City</th>\n",
       "      <th>Lat</th>\n",
       "      <th>Lng</th>\n",
       "      <th>Max Temp</th>\n",
       "      <th>Humidity</th>\n",
       "      <th>Cloudiness</th>\n",
       "      <th>Wind Speed</th>\n",
       "      <th>Country</th>\n",
       "      <th>Date</th>\n",
       "    </tr>\n",
       "  </thead>\n",
       "  <tbody>\n",
       "    <tr>\n",
       "      <th>0</th>\n",
       "      <td>cape town</td>\n",
       "      <td>-36.41</td>\n",
       "      <td>-71.90</td>\n",
       "      <td>50.00</td>\n",
       "      <td>81</td>\n",
       "      <td>95</td>\n",
       "      <td>9.17</td>\n",
       "      <td>CL</td>\n",
       "      <td>1600838272</td>\n",
       "    </tr>\n",
       "    <tr>\n",
       "      <th>1</th>\n",
       "      <td>kapaa</td>\n",
       "      <td>22.08</td>\n",
       "      <td>-159.32</td>\n",
       "      <td>80.60</td>\n",
       "      <td>69</td>\n",
       "      <td>40</td>\n",
       "      <td>13.87</td>\n",
       "      <td>US</td>\n",
       "      <td>1600838273</td>\n",
       "    </tr>\n",
       "    <tr>\n",
       "      <th>2</th>\n",
       "      <td>castro</td>\n",
       "      <td>-24.79</td>\n",
       "      <td>-50.01</td>\n",
       "      <td>50.88</td>\n",
       "      <td>86</td>\n",
       "      <td>75</td>\n",
       "      <td>11.21</td>\n",
       "      <td>BR</td>\n",
       "      <td>1600838066</td>\n",
       "    </tr>\n",
       "    <tr>\n",
       "      <th>3</th>\n",
       "      <td>ponta do sol</td>\n",
       "      <td>38.73</td>\n",
       "      <td>-28.27</td>\n",
       "      <td>64.18</td>\n",
       "      <td>85</td>\n",
       "      <td>97</td>\n",
       "      <td>23.62</td>\n",
       "      <td>PT</td>\n",
       "      <td>1600838276</td>\n",
       "    </tr>\n",
       "    <tr>\n",
       "      <th>4</th>\n",
       "      <td>leningradskiy</td>\n",
       "      <td>69.38</td>\n",
       "      <td>178.42</td>\n",
       "      <td>39.79</td>\n",
       "      <td>86</td>\n",
       "      <td>100</td>\n",
       "      <td>20.02</td>\n",
       "      <td>RU</td>\n",
       "      <td>1600838277</td>\n",
       "    </tr>\n",
       "    <tr>\n",
       "      <th>...</th>\n",
       "      <td>...</td>\n",
       "      <td>...</td>\n",
       "      <td>...</td>\n",
       "      <td>...</td>\n",
       "      <td>...</td>\n",
       "      <td>...</td>\n",
       "      <td>...</td>\n",
       "      <td>...</td>\n",
       "      <td>...</td>\n",
       "    </tr>\n",
       "    <tr>\n",
       "      <th>535</th>\n",
       "      <td>charters towers</td>\n",
       "      <td>38.57</td>\n",
       "      <td>-83.43</td>\n",
       "      <td>51.80</td>\n",
       "      <td>93</td>\n",
       "      <td>1</td>\n",
       "      <td>3.36</td>\n",
       "      <td>US</td>\n",
       "      <td>1600838897</td>\n",
       "    </tr>\n",
       "    <tr>\n",
       "      <th>536</th>\n",
       "      <td>odda</td>\n",
       "      <td>60.07</td>\n",
       "      <td>6.55</td>\n",
       "      <td>55.99</td>\n",
       "      <td>91</td>\n",
       "      <td>100</td>\n",
       "      <td>5.99</td>\n",
       "      <td>NO</td>\n",
       "      <td>1600838898</td>\n",
       "    </tr>\n",
       "    <tr>\n",
       "      <th>537</th>\n",
       "      <td>burnie</td>\n",
       "      <td>-41.07</td>\n",
       "      <td>145.92</td>\n",
       "      <td>55.99</td>\n",
       "      <td>57</td>\n",
       "      <td>71</td>\n",
       "      <td>15.01</td>\n",
       "      <td>AU</td>\n",
       "      <td>1600838899</td>\n",
       "    </tr>\n",
       "    <tr>\n",
       "      <th>538</th>\n",
       "      <td>muros</td>\n",
       "      <td>42.78</td>\n",
       "      <td>-9.06</td>\n",
       "      <td>63.00</td>\n",
       "      <td>92</td>\n",
       "      <td>84</td>\n",
       "      <td>4.00</td>\n",
       "      <td>ES</td>\n",
       "      <td>1600838900</td>\n",
       "    </tr>\n",
       "    <tr>\n",
       "      <th>539</th>\n",
       "      <td>trairi</td>\n",
       "      <td>-3.28</td>\n",
       "      <td>-39.27</td>\n",
       "      <td>77.45</td>\n",
       "      <td>77</td>\n",
       "      <td>39</td>\n",
       "      <td>12.46</td>\n",
       "      <td>BR</td>\n",
       "      <td>1600838901</td>\n",
       "    </tr>\n",
       "  </tbody>\n",
       "</table>\n",
       "<p>517 rows × 9 columns</p>\n",
       "</div>"
      ],
      "text/plain": [
       "                City    Lat     Lng  Max Temp  Humidity  Cloudiness  \\\n",
       "0          cape town -36.41  -71.90     50.00        81          95   \n",
       "1              kapaa  22.08 -159.32     80.60        69          40   \n",
       "2             castro -24.79  -50.01     50.88        86          75   \n",
       "3       ponta do sol  38.73  -28.27     64.18        85          97   \n",
       "4      leningradskiy  69.38  178.42     39.79        86         100   \n",
       "..               ...    ...     ...       ...       ...         ...   \n",
       "535  charters towers  38.57  -83.43     51.80        93           1   \n",
       "536             odda  60.07    6.55     55.99        91         100   \n",
       "537           burnie -41.07  145.92     55.99        57          71   \n",
       "538            muros  42.78   -9.06     63.00        92          84   \n",
       "539           trairi  -3.28  -39.27     77.45        77          39   \n",
       "\n",
       "     Wind Speed Country        Date  \n",
       "0          9.17      CL  1600838272  \n",
       "1         13.87      US  1600838273  \n",
       "2         11.21      BR  1600838066  \n",
       "3         23.62      PT  1600838276  \n",
       "4         20.02      RU  1600838277  \n",
       "..          ...     ...         ...  \n",
       "535        3.36      US  1600838897  \n",
       "536        5.99      NO  1600838898  \n",
       "537       15.01      AU  1600838899  \n",
       "538        4.00      ES  1600838900  \n",
       "539       12.46      BR  1600838901  \n",
       "\n",
       "[517 rows x 9 columns]"
      ]
     },
     "execution_count": 28,
     "metadata": {},
     "output_type": "execute_result"
    }
   ],
   "source": [
    "# Make a new DataFrame equal to the city data to drop all humidity outliers by index.\n",
    "clean_city_data = under_100[(np.abs(stats.zscore(under_100[\"Humidity\"])) < 3)]\n",
    "clean_city_data\n"
   ]
  },
  {
   "cell_type": "markdown",
   "metadata": {},
   "source": [
    "## Plotting the Data\n",
    "* Use proper labeling of the plots using plot titles (including date of analysis) and axes labels.\n",
    "* Save the plotted figures as .pngs."
   ]
  },
  {
   "cell_type": "code",
   "execution_count": 34,
   "metadata": {},
   "outputs": [
    {
     "data": {
      "image/png": "[encoded data removed]",
      "text/plain": [
       "<Figure size 432x288 with 1 Axes>"
      ]
     },
     "metadata": {
      "needs_background": "light"
     },
     "output_type": "display_data"
    }
   ],
   "source": [
    "# Create scatter plot with edge color for plots\n",
    "plt.scatter(clean_city_data[\"Lat\"], clean_city_data[\"Max Temp\"], edgecolors=\"black\")\n",
    "# Title\n",
    "plt.title(\"City Latitude vs. Max Temperature (09/23/2020)\")\n",
    "# y-axis label\n",
    "plt.ylabel(\"Max Temperature(09/23/2020)\")\n",
    "# x-axis label\n",
    "plt.xlabel(\"Latitude\")\n",
    "# Add grid to chart\n",
    "plt.grid()\n",
    "# show chart\n",
    "plt.show()"
   ]
  },
  {
   "cell_type": "markdown",
   "metadata": {},
   "source": [
    "In the above chart, I am analyzing the cities' maximum temperature (y axis) based on their latitude (x axis) using a scatter plot. As we can see, the closer the latitude is to zero (0) the higher the temperature. "
   ]
  },
  {
   "cell_type": "markdown",
   "metadata": {},
   "source": [
    "## Latitude vs. Temperature Plot"
   ]
  },
  {
   "cell_type": "markdown",
   "metadata": {},
   "source": [
    "## Latitude vs. Humidity Plot"
   ]
  },
  {
   "cell_type": "code",
   "execution_count": 35,
   "metadata": {},
   "outputs": [
    {
     "data": {
      "image/png": "[encoded data removed]",
      "text/plain": [
       "<Figure size 432x288 with 1 Axes>"
      ]
     },
     "metadata": {
      "needs_background": "light"
     },
     "output_type": "display_data"
    }
   ],
   "source": [
    "# Create scatter plot with edge color for plots\n",
    "plt.scatter(clean_city_data[\"Lat\"], clean_city_data[\"Humidity\"], edgecolors=\"black\")\n",
    "# Title\n",
    "plt.title(\"City Latitude vs. Humidity (09/23/2020)\")\n",
    "# y-axis label\n",
    "plt.ylabel(\"Humidity\")\n",
    "# x-axis label\n",
    "plt.xlabel(\"Latitude\")\n",
    "# Add grid to chart\n",
    "plt.grid()\n",
    "# show chart\n",
    "plt.show()"
   ]
  },
  {
   "cell_type": "markdown",
   "metadata": {},
   "source": [
    "Through the scatter plot above, I am analyzing the citie's humdity level (y axis) based on their latitude (x axis). Based on the result shown, there is little relation between latitude and humidity."
   ]
  },
  {
   "cell_type": "markdown",
   "metadata": {},
   "source": [
    "## Latitude vs. Cloudiness Plot"
   ]
  },
  {
   "cell_type": "code",
   "execution_count": 36,
   "metadata": {},
   "outputs": [
    {
     "data": {
      "image/png": "[encoded data removed]",
      "text/plain": [
       "<Figure size 432x288 with 1 Axes>"
      ]
     },
     "metadata": {
      "needs_background": "light"
     },
     "output_type": "display_data"
    }
   ],
   "source": [
    "# Create scatter plot with edge color for plots\n",
    "plt.scatter(clean_city_data[\"Lat\"], clean_city_data[\"Cloudiness\"], edgecolors=\"black\")\n",
    "# Title\n",
    "plt.title(\"City Latitude vs. Cloudiness(09/23/2020)\")\n",
    "# y-axis label\n",
    "plt.ylabel(\"Cloudiness\")\n",
    "# x-axis label\n",
    "plt.xlabel(\"Latitude\")\n",
    "## Add grid to chart\n",
    "plt.grid()\n",
    "# show chart\n",
    "plt.show()"
   ]
  },
  {
   "cell_type": "markdown",
   "metadata": {},
   "source": [
    "I am using a scatter plot to determine the relationship between the cities'  level of cloudiness (y axis) and their latitude (x axis). I can see their latitude does not affect their level of cloudiness."
   ]
  },
  {
   "cell_type": "markdown",
   "metadata": {},
   "source": [
    "## Latitude vs. Wind Speed Plot"
   ]
  },
  {
   "cell_type": "code",
   "execution_count": 37,
   "metadata": {},
   "outputs": [
    {
     "data": {
      "image/png": "[encoded data removed]",
      "text/plain": [
       "<Figure size 432x288 with 1 Axes>"
      ]
     },
     "metadata": {
      "needs_background": "light"
     },
     "output_type": "display_data"
    }
   ],
   "source": [
    "# Create scatter plot with edge color for plots\n",
    "plt.scatter(clean_city_data[\"Lat\"], clean_city_data[\"Wind Speed\"], edgecolors=\"black\")\n",
    "# Title\n",
    "plt.title(\"City Latitude vs. Wind Speed (09/23/2020)\")\n",
    "# y-axis label\n",
    "plt.ylabel(\"Wind Speed\")\n",
    "# x-axis label\n",
    "plt.xlabel(\"Latitude\")\n",
    "# Add grid to chart\n",
    "plt.grid()\n",
    "# show chart\n",
    "plt.show()"
   ]
  },
  {
   "cell_type": "markdown",
   "metadata": {},
   "source": [
    "Like the previous scatter plots, I am using pyplot to create my chart. In this scatter plot, I am analyzing the cities' wind speed (y axis) based on their latitude (x axis). Again, I am not seeing a relationship between the two. "
   ]
  },
  {
   "cell_type": "markdown",
   "metadata": {},
   "source": [
    "## Linear Regression"
   ]
  },
  {
   "cell_type": "markdown",
   "metadata": {},
   "source": [
    "####  Northern Hemisphere - Max Temp vs. Latitude Linear Regression"
   ]
  },
  {
   "cell_type": "code",
   "execution_count": 39,
   "metadata": {},
   "outputs": [
    {
     "name": "stdout",
     "output_type": "stream",
     "text": [
      "The r-value is: -0.8419796360879586\n"
     ]
    },
    {
     "data": {
      "image/png": "[encoded data removed]",
      "text/plain": [
       "<Figure size 432x288 with 1 Axes>"
      ]
     },
     "metadata": {
      "needs_background": "light"
     },
     "output_type": "display_data"
    }
   ],
   "source": [
    "northern_hemisphere = clean_city_data[clean_city_data[\"Lat\"] > 0]\n",
    "plt.scatter(northern_hemisphere[\"Lat\"], northern_hemisphere[\"Max Temp\"])\n",
    "plt.title(\"Northern Hemisphere - Max Temp vs. Latitude\")\n",
    "plt.ylabel(\"Max Temp\")\n",
    "plt.xlabel(\"Latitude\")\n",
    "plt.ylim(0, 120)\n",
    "(slope, intercept, rvalue, pvalue, stderr) = stats.linregress(northern_hemisphere[\"Lat\"], \n",
    "                                                              northern_hemisphere[\"Max Temp\"])\n",
    "regress_value = northern_hemisphere[\"Lat\"] * slope + intercept\n",
    "line_eq = \"y = \" + str(round(slope,2)) + \"x + \" + str(round(intercept,2))\n",
    "plt.plot(northern_hemisphere[\"Lat\"], regress_value, 'r-')\n",
    "plt.annotate(line_eq,(10, 20),fontsize=15,color=\"red\")\n",
    "print(f\"The r-value is: {rvalue}\")"
   ]
  },
  {
   "cell_type": "markdown",
   "metadata": {},
   "source": [
    "####  Southern Hemisphere - Max Temp vs. Latitude Linear Regression"
   ]
  },
  {
   "cell_type": "code",
   "execution_count": 40,
   "metadata": {},
   "outputs": [
    {
     "name": "stdout",
     "output_type": "stream",
     "text": [
      "The r-value is: 0.7257200754102209\n"
     ]
    },
    {
     "data": {
      "image/png": "[encoded data removed]",
      "text/plain": [
       "<Figure size 432x288 with 1 Axes>"
      ]
     },
     "metadata": {
      "needs_background": "light"
     },
     "output_type": "display_data"
    }
   ],
   "source": [
    "southern_hemisphere = clean_city_data[clean_city_data[\"Lat\"] < 0]\n",
    "plt.scatter(southern_hemisphere[\"Lat\"], southern_hemisphere[\"Max Temp\"])\n",
    "plt.title(\"Southern Hemisphere - Max Temp vs. Latitude\")\n",
    "plt.ylabel(\"Max Temp\")\n",
    "plt.xlabel(\"Latitude\")\n",
    "plt.ylim(0, 120)\n",
    "(slope, intercept, rvalue, pvalue, stderr) = stats.linregress(southern_hemisphere[\"Lat\"], \n",
    "                                                              southern_hemisphere[\"Max Temp\"])\n",
    "regress_value = southern_hemisphere[\"Lat\"] * slope + intercept\n",
    "line_eq = \"y = \" + str(round(slope,2)) + \"x + \" + str(round(intercept,2))\n",
    "plt.plot(southern_hemisphere[\"Lat\"], regress_value, 'r-')\n",
    "plt.annotate(line_eq,(-40, 20),fontsize=15,color=\"red\")\n",
    "print(f\"The r-value is: {rvalue}\")"
   ]
  },
  {
   "cell_type": "markdown",
   "metadata": {},
   "source": [
    "####  Southern Hemisphere - Max Temp vs. Latitude Linear Regression"
   ]
  },
  {
   "cell_type": "markdown",
   "metadata": {},
   "source": [
    "The two scatter plots I created separate the southern and northern hemisphere cities. In addition, the linear regression added help understand the relationship between latitude (x axis) and maximum temperature (y axis). As stated before, the closer the city's latitude is to zero, the higher the maximum temperature. "
   ]
  },
  {
   "cell_type": "markdown",
   "metadata": {},
   "source": [
    "####  Northern Hemisphere - Humidity (%) vs. Latitude Linear Regression"
   ]
  },
  {
   "cell_type": "code",
   "execution_count": 43,
   "metadata": {},
   "outputs": [
    {
     "name": "stdout",
     "output_type": "stream",
     "text": [
      "The r-value is: 0.03618646992695648\n"
     ]
    },
    {
     "data": {
      "image/png": "[encoded data removed]",
      "text/plain": [
       "<Figure size 432x288 with 1 Axes>"
      ]
     },
     "metadata": {
      "needs_background": "light"
     },
     "output_type": "display_data"
    }
   ],
   "source": [
    "plt.scatter(northern_hemisphere[\"Lat\"], northern_hemisphere[\"Humidity\"])\n",
    "plt.title(\"Northern Hemisphere - Humidity vs. Latitude\")\n",
    "plt.ylabel(\"Humidity\")\n",
    "plt.xlabel(\"Latitude\")\n",
    "(slope, intercept, rvalue, pvalue, stderr) = stats.linregress(northern_hemisphere[\"Lat\"], \n",
    "                                                              northern_hemisphere[\"Humidity\"])\n",
    "regress_value = northern_hemisphere[\"Lat\"] * slope + intercept\n",
    "line_eq = \"y = \" + str(round(slope,2)) + \"x + \" + str(round(intercept,2))\n",
    "plt.plot(northern_hemisphere[\"Lat\"], regress_value, 'r-')\n",
    "plt.annotate(line_eq,(40, 20),fontsize=15,color=\"red\")\n",
    "print(f\"The r-value is: {rvalue}\")"
   ]
  },
  {
   "cell_type": "markdown",
   "metadata": {},
   "source": [
    "####  Southern Hemisphere - Humidity (%) vs. Latitude Linear Regression"
   ]
  },
  {
   "cell_type": "code",
   "execution_count": 47,
   "metadata": {},
   "outputs": [
    {
     "name": "stdout",
     "output_type": "stream",
     "text": [
      "The r-value is: 0.010867257926046205\n"
     ]
    },
    {
     "data": {
      "image/png": "[encoded data removed]",
      "text/plain": [
       "<Figure size 432x288 with 1 Axes>"
      ]
     },
     "metadata": {
      "needs_background": "light"
     },
     "output_type": "display_data"
    }
   ],
   "source": [
    "plt.scatter(southern_hemisphere[\"Lat\"], southern_hemisphere[\"Humidity\"])\n",
    "plt.title(\"Southern Hemisphere - Humidity vs. Latitude\")\n",
    "plt.ylabel(\"Humidity\")\n",
    "plt.xlabel(\"Latitude\")\n",
    "(slope, intercept, rvalue, pvalue, stderr) = stats.linregress(southern_hemisphere[\"Lat\"], \n",
    "                                                              southern_hemisphere[\"Humidity\"])\n",
    "regress_value = southern_hemisphere[\"Lat\"] * slope + intercept\n",
    "line_eq = \"y = \" + str(round(slope,2)) + \"x + \" + str(round(intercept,2))\n",
    "plt.plot(southern_hemisphere[\"Lat\"], regress_value, 'r-')\n",
    "plt.annotate(line_eq,(-50, 40),fontsize=15,color=\"red\")\n",
    "print(f\"The r-value is: {rvalue}\")"
   ]
  },
  {
   "cell_type": "markdown",
   "metadata": {},
   "source": [
    "I am doing the same to analyze the relationship between the cities' level of humdidity (y axis) and their latitude (x axis). I am still getting the same conclusion. There is not much relationship between the two fo them."
   ]
  },
  {
   "cell_type": "markdown",
   "metadata": {},
   "source": [
    "####  Northern Hemisphere - Cloudiness (%) vs. Latitude Linear Regression"
   ]
  },
  {
   "cell_type": "code",
   "execution_count": 48,
   "metadata": {},
   "outputs": [
    {
     "name": "stdout",
     "output_type": "stream",
     "text": [
      "The r-value is: -0.06180967406882061\n"
     ]
    },
    {
     "data": {
      "image/png": "[encoded data removed]",
      "text/plain": [
       "<Figure size 432x288 with 1 Axes>"
      ]
     },
     "metadata": {
      "needs_background": "light"
     },
     "output_type": "display_data"
    }
   ],
   "source": [
    "plt.scatter(northern_hemisphere[\"Lat\"], northern_hemisphere[\"Cloudiness\"])\n",
    "plt.title(\"Northern Hemisphere - Cloudiness vs. Latitude\")\n",
    "plt.ylabel(\"Cloudiness\")\n",
    "plt.xlabel(\"Latitude\")\n",
    "(slope, intercept, rvalue, pvalue, stderr) = stats.linregress(northern_hemisphere[\"Lat\"], \n",
    "                                                              northern_hemisphere[\"Cloudiness\"])\n",
    "regress_value = northern_hemisphere[\"Lat\"] * slope + intercept\n",
    "line_eq = \"y = \" + str(round(slope,2)) + \"x + \" + str(round(intercept,2))\n",
    "plt.plot(northern_hemisphere[\"Lat\"], regress_value, 'r-')\n",
    "plt.annotate(line_eq,(40, 60),fontsize=15,color=\"red\")\n",
    "print(f\"The r-value is: {rvalue}\")"
   ]
  },
  {
   "cell_type": "markdown",
   "metadata": {},
   "source": [
    "####  Southern Hemisphere - Cloudiness (%) vs. Latitude Linear Regression"
   ]
  },
  {
   "cell_type": "code",
   "execution_count": 49,
   "metadata": {},
   "outputs": [
    {
     "name": "stdout",
     "output_type": "stream",
     "text": [
      "The r-value is: -0.22577110324095256\n"
     ]
    },
    {
     "data": {
      "image/png": "[encoded data removed]",
      "text/plain": [
       "<Figure size 432x288 with 1 Axes>"
      ]
     },
     "metadata": {
      "needs_background": "light"
     },
     "output_type": "display_data"
    }
   ],
   "source": [
    "plt.scatter(southern_hemisphere[\"Lat\"], southern_hemisphere[\"Cloudiness\"])\n",
    "plt.title(\"Southern Hemisphere - Cloudiness vs. Latitude\")\n",
    "plt.ylabel(\"Cloudiness\")\n",
    "plt.xlabel(\"Latitude\")\n",
    "(slope, intercept, rvalue, pvalue, stderr) = stats.linregress(southern_hemisphere[\"Lat\"], \n",
    "                                                              southern_hemisphere[\"Cloudiness\"])\n",
    "regress_value = southern_hemisphere[\"Lat\"] * slope + intercept\n",
    "line_eq = \"y = \" + str(round(slope,2)) + \"x + \" + str(round(intercept,2))\n",
    "plt.plot(southern_hemisphere[\"Lat\"], regress_value, 'r-')\n",
    "plt.annotate(line_eq,(-50, 20),fontsize=15,color=\"red\")\n",
    "print(f\"The r-value is: {rvalue}\")"
   ]
  },
  {
   "cell_type": "markdown",
   "metadata": {},
   "source": [
    "By separating the cities based on their latitude and adding a linear regression, I did find a relationship between their latitude and their level of cloudiness. As their latitude increases, their level of cloudiness decreases."
   ]
  },
  {
   "cell_type": "markdown",
   "metadata": {},
   "source": [
    "####  Northern Hemisphere - Wind Speed (mph) vs. Latitude Linear Regression"
   ]
  },
  {
   "cell_type": "code",
   "execution_count": 51,
   "metadata": {},
   "outputs": [
    {
     "name": "stdout",
     "output_type": "stream",
     "text": [
      "The r-value is: 0.15709171572129618\n"
     ]
    },
    {
     "data": {
      "image/png": "[encoded data removed]",
      "text/plain": [
       "<Figure size 432x288 with 1 Axes>"
      ]
     },
     "metadata": {
      "needs_background": "light"
     },
     "output_type": "display_data"
    }
   ],
   "source": [
    "plt.scatter(northern_hemisphere[\"Lat\"], northern_hemisphere[\"Wind Speed\"])\n",
    "plt.title(\"Northern Hemisphere - Wind Speed vs. Latitude\")\n",
    "plt.ylabel(\"Wind Speed\")\n",
    "plt.xlabel(\"Latitude\")\n",
    "(slope, intercept, rvalue, pvalue, stderr) = stats.linregress(northern_hemisphere[\"Lat\"], \n",
    "                                                              northern_hemisphere[\"Wind Speed\"])\n",
    "regress_value = northern_hemisphere[\"Lat\"] * slope + intercept\n",
    "line_eq = \"y = \" + str(round(slope,2)) + \"x + \" + str(round(intercept,2))\n",
    "plt.plot(northern_hemisphere[\"Lat\"], regress_value, 'r-')\n",
    "plt.annotate(line_eq,(40, 25),fontsize=15,color=\"red\")\n",
    "print(f\"The r-value is: {rvalue}\")"
   ]
  },
  {
   "cell_type": "markdown",
   "metadata": {},
   "source": [
    "####  Southern Hemisphere - Wind Speed (mph) vs. Latitude Linear Regression"
   ]
  },
  {
   "cell_type": "code",
   "execution_count": 52,
   "metadata": {},
   "outputs": [
    {
     "name": "stdout",
     "output_type": "stream",
     "text": [
      "The r-value is: -0.09695816795466501\n"
     ]
    },
    {
     "data": {
      "image/png": "[encoded data removed]",
      "text/plain": [
       "<Figure size 432x288 with 1 Axes>"
      ]
     },
     "metadata": {
      "needs_background": "light"
     },
     "output_type": "display_data"
    }
   ],
   "source": [
    "plt.scatter(southern_hemisphere[\"Lat\"], southern_hemisphere[\"Wind Speed\"])\n",
    "plt.title(\"Southern Hemisphere - Wind Speed vs. Latitude\")\n",
    "plt.ylabel(\"Wind Speed\")\n",
    "plt.xlabel(\"Latitude\")\n",
    "(slope, intercept, rvalue, pvalue, stderr) = stats.linregress(southern_hemisphere[\"Lat\"], \n",
    "                                                              southern_hemisphere[\"Wind Speed\"])\n",
    "regress_value = southern_hemisphere[\"Lat\"] * slope + intercept\n",
    "line_eq = \"y = \" + str(round(slope,2)) + \"x + \" + str(round(intercept,2))\n",
    "plt.plot(southern_hemisphere[\"Lat\"], regress_value, 'r-')\n",
    "plt.annotate(line_eq,(-40, 20),fontsize=15,color=\"red\")\n",
    "print(f\"The r-value is: {rvalue}\")"
   ]
  },
  {
   "cell_type": "markdown",
   "metadata": {},
   "source": [
    "The linear regression also helped me find the relationship between the cities's wind speed and their latitude. Wind speed decreases the closer the city's latitude is to zero."
   ]
  },
  {
   "cell_type": "markdown",
   "metadata": {},
   "source": [
    "3 observable trends from my data are:\n",
    "\n",
    "-Cities with latitude closer to zero (or the equator) are hotter. The scatter plot shows that maximum temperatures increases as the citie's latitude are nearing zero (0).\n",
    "\n",
    "-Cities' latitude does not influence their humdity level. All three scatter plots show that humidity stays stable throughout the chart.\n",
    "\n",
    "-Cities with latitude closer to zero have lower wind speed. It's especially obvious in the northern and southern hemisphere plots and emphasized by the linear regression line. "
   ]
  }
 ],
 "metadata": {
  "anaconda-cloud": {},
  "kernel_info": {
   "name": "python3"
  },
  "kernelspec": {
   "display_name": "Python [conda env:pythondata]",
   "language": "python",
   "name": "conda-env-pythondata-py"
  },
  "language_info": {
   "codemirror_mode": {
    "name": "ipython",
    "version": 3
   },
   "file_extension": ".py",
   "mimetype": "text/x-python",
   "name": "python",
   "nbconvert_exporter": "python",
   "pygments_lexer": "ipython3",
   "version": "3.6.10"
  },
  "latex_envs": {
   "LaTeX_envs_menu_present": true,
   "autoclose": false,
   "autocomplete": true,
   "bibliofile": "biblio.bib",
   "cite_by": "apalike",
   "current_citInitial": 1,
   "eqLabelWithNumbers": true,
   "eqNumInitial": 1,
   "hotkeys": {
    "equation": "Ctrl-E",
    "itemize": "Ctrl-I"
   },
   "labels_anchors": false,
   "latex_user_defs": false,
   "report_style_numbering": false,
   "user_envs_cfg": false
  },
  "nteract": {
   "version": "0.12.3"
  }
 },
 "nbformat": 4,
 "nbformat_minor": 2
}
